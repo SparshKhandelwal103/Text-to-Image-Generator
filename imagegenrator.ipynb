{
  "nbformat": 4,
  "nbformat_minor": 0,
  "metadata": {
    "colab": {
      "provenance": [],
      "gpuType": "T4",
      "authorship_tag": "ABX9TyOC76wddQ7eGgTo8pUHmymu",
      "include_colab_link": true
    },
    "kernelspec": {
      "name": "python3",
      "display_name": "Python 3"
    },
    "language_info": {
      "name": "python"
    },
    "accelerator": "GPU"
  },
  "cells": [
    {
      "cell_type": "markdown",
      "metadata": {
        "id": "view-in-github",
        "colab_type": "text"
      },
      "source": [
        "<a href=\"https://colab.research.google.com/github/SparshKhandelwal103/Text-to-Image-Generator/blob/main/imagegenrator.ipynb\" target=\"_parent\"><img src=\"https://colab.research.google.com/assets/colab-badge.svg\" alt=\"Open In Colab\"/></a>"
      ]
    },
    {
      "cell_type": "code",
      "source": [
        "!pip install diffusers transformers accelerate scipy safetensors\n"
      ],
      "metadata": {
        "id": "25KqwFfqzpJU"
      },
      "execution_count": null,
      "outputs": []
    },
    {
      "cell_type": "code",
      "source": [
        "!pip install ipywidgets"
      ],
      "metadata": {
        "id": "_AZ-i3g9_PcF"
      },
      "execution_count": null,
      "outputs": []
    },
    {
      "cell_type": "code",
      "execution_count": null,
      "metadata": {
        "id": "knDOVTlv9xnE"
      },
      "outputs": [],
      "source": [
        "from huggingface_hub import login\n",
        "login()  # This will prompt you to paste your token securely\n",
        "\n",
        "import torch\n",
        "from torch import autocast\n",
        "from diffusers import StableDiffusionPipeline\n",
        "from PIL import Image\n",
        "import matplotlib.pyplot as plt\n",
        "import numpy as np\n",
        "from IPython.display import display\n",
        "\n",
        "model_id = \"runwayml/stable-diffusion-v1-5\"\n",
        "\n",
        "device = \"cuda\" if torch.cuda.is_available() else \"cpu\"\n",
        "\n",
        "pipe = StableDiffusionPipeline.from_pretrained(model_id, torch_dtype=torch.float32, use_auth_token=True)\n",
        "pipe = pipe.to(device)\n",
        "\n",
        "\n",
        "\n"
      ]
    },
    {
      "cell_type": "code",
      "source": [
        "import ipywidgets as widgets\n",
        "import re\n",
        "from google.colab import files\n",
        "\n",
        "def display_image(image, prompt):\n",
        "    plt.figure(figsize=(8, 8))\n",
        "    plt.imshow(image)\n",
        "    plt.axis(\"off\")\n",
        "    plt.title(f\"Prompt: {prompt}\", fontsize=14, fontweight='bold')\n",
        "    plt.tight_layout()\n",
        "    plt.show()\n",
        "\n",
        "    filename = f\"image_{re.sub(r'[^a-zA-Z0-9]', '_', prompt.strip())[:50]}.png\"\n",
        "    image.save(filename)\n",
        "    files.download(filename)\n",
        "\n",
        "prompt_box = widgets.Text(\n",
        "    value='',\n",
        "    placeholder='Enter your prompt',\n",
        "    description='Prompt:',\n",
        "    style={'description_width': 'initial'},\n",
        "    layout=widgets.Layout(width='25%')\n",
        ")\n",
        "\n",
        "generate_button = widgets.Button(description=\"Generate Image\", button_style='success')\n",
        "\n",
        "def on_button_click(b):\n",
        "    prompt = prompt_box.value\n",
        "    with torch.autocast(\"cuda\"):\n",
        "        image = pipe(prompt).images[0]\n",
        "    display_image(image, prompt)\n",
        "\n",
        "generate_button.on_click(on_button_click)\n",
        "\n",
        "display(prompt_box, generate_button)"
      ],
      "metadata": {
        "id": "WaBJZ9Yb4hdt"
      },
      "execution_count": null,
      "outputs": []
    }
  ]
}